{
  "nbformat": 4,
  "nbformat_minor": 0,
  "metadata": {
    "colab": {
      "provenance": [],
      "gpuType": "T4"
    },
    "kernelspec": {
      "name": "python3",
      "display_name": "Python 3"
    },
    "language_info": {
      "name": "python"
    },
    "accelerator": "GPU"
  },
  "cells": [
    {
      "cell_type": "code",
      "source": [
        "data = \"\"\"\n",
        "Kate 011024-4234098\n",
        "David 700521-1023943\n",
        "Nicky 040130-3495812\n",
        "\"\"\"\n",
        "\n",
        "import re\n",
        "pat = re.compile(r\"(\\d{6}-)\\d{7}\")\n",
        "print(pat.sub(\"\\g<1>-*******\", data))"
      ],
      "metadata": {
        "colab": {
          "base_uri": "https://localhost:8080/"
        },
        "id": "5kraqDSYgWXP",
        "outputId": "6c0ed346-b8a7-4798-9c44-1def8c396644"
      },
      "execution_count": null,
      "outputs": [
        {
          "output_type": "stream",
          "name": "stdout",
          "text": [
            "\n",
            "Kate 011024--*******\n",
            "David 700521--*******\n",
            "Nicky 040130--*******\n",
            "\n"
          ]
        }
      ]
    },
    {
      "cell_type": "code",
      "source": [
        "with open(\"babypig.txt\", \"r\") as f:\n",
        "    for line in f:\n",
        "        print(line)"
      ],
      "metadata": {
        "colab": {
          "base_uri": "https://localhost:8080/"
        },
        "id": "0dXPz3bM3y9K",
        "outputId": "748ff0fd-d806-459f-839f-daf07ce0b0bd"
      },
      "execution_count": 7,
      "outputs": [
        {
          "output_type": "stream",
          "name": "stdout",
          "text": [
            "아기 돼지 삼형제가 살았어요. 하루는 엄마 돼지가 말했지요.\"애들아, 이제 너희는 다 컸다. 나가서 집을 지어 살려무나.\"첫째 돼지는 노는 걸 좋아했지요. 하루종일 빈둥빈둥 놀다가 짚으로 후다닥 집을 지었어요.둘째 돼지는 먹는 걸 좋아했어요. 하루종일 냠냠쩝쩝 먹다가 나무로 후다닥 집을 지었어요.셋째 돼지는 부지런햇어요. 설계도를 먼저 그린 다음에 벽돌로 튼튼하게 집을 지었어요.첫째 돼지 집에 배고픈 늑대가 다가와서 문을 똑똑두드리며말했어요. \"작은 돼지야, 나 좀 들여보내 줘! (삼겹살이 먹고 싶어)\"첫째 돼지는 절대로 들어올수 없다고 했지만 늑대는 훅 불어서 짚단 집을 휙 날려 버렸어요.첫째 돼지는 둘째 돼지 집으로 도망갔어요. 곧 둘째 돼지 집에 배고픈 늑대가 다가와서 문을 똑똑 두드리며 말했어요.\"작은 돼지야, 나 좀 들여보내 줘ㅠㅠ\" 둘째 돼지는 절대 안된다고 했지만 늑대는 훅 불어서 나무 집을 휙 날려 버렸어요.첫째 돼지,둘째돼지는셋째돼지집으로도망갔어요. 곧 셋째 돼지 집에 배고픈 늑대가 다가와서 문을 똑똑 두드리며 말했어요.\"작은 돼지야, 나 좀 들여보내 줘~\" \"안 돼, 안 돼, 절대 들어올 수 없어!!ㅠ\" 늑대는 훅훅훅훅훅 불었지만, 벽돌집은 끄떡없었지요.늑대는화가엄청났어요. 늑대는 지붕 위로 올라가서 굴뚝 아래로 내려갔어요.그러다가 그만 펄펄 끓는 냄비 속으로 풍덩 빠졌지요!(앗 뜨거)늑대는 깜짝 놀라 도망갔어요.(다행히 안죽음) 아기 돼지 삼형제는 모두 벽돌로 튼튼하게 집을 지었어요.그리고 오래오래 살았답니다~~\n"
          ]
        }
      ]
    },
    {
      "cell_type": "code",
      "source": [
        "!pip install git+https://github.com/haven-jeon/PyKoSpacing.git"
      ],
      "metadata": {
        "colab": {
          "base_uri": "https://localhost:8080/",
          "height": 1000
        },
        "id": "o6bD8r0dz9oJ",
        "outputId": "64dd47c6-4c9a-4ded-a63f-ebdb9f2245db"
      },
      "execution_count": null,
      "outputs": [
        {
          "output_type": "stream",
          "name": "stdout",
          "text": [
            "Collecting git+https://github.com/haven-jeon/PyKoSpacing.git\n",
            "  Cloning https://github.com/haven-jeon/PyKoSpacing.git to /tmp/pip-req-build-w4fft_q2\n",
            "  Running command git clone --filter=blob:none --quiet https://github.com/haven-jeon/PyKoSpacing.git /tmp/pip-req-build-w4fft_q2\n",
            "  Resolved https://github.com/haven-jeon/PyKoSpacing.git to commit 04aeebcbe26b109486a642e57dc58665c4818cf3\n",
            "  Preparing metadata (setup.py) ... \u001b[?25l\u001b[?25hdone\n",
            "Requirement already satisfied: tensorflow==2.11.1 in /usr/local/lib/python3.10/dist-packages (from pykospacing==0.5) (2.11.1)\n",
            "Requirement already satisfied: h5py==3.10.0 in /usr/local/lib/python3.10/dist-packages (from pykospacing==0.5) (3.10.0)\n",
            "Collecting argparse>=1.4.0 (from pykospacing==0.5)\n",
            "  Using cached argparse-1.4.0-py2.py3-none-any.whl (23 kB)\n",
            "Requirement already satisfied: numpy>=1.17.3 in /usr/local/lib/python3.10/dist-packages (from h5py==3.10.0->pykospacing==0.5) (1.25.2)\n",
            "Requirement already satisfied: absl-py>=1.0.0 in /usr/local/lib/python3.10/dist-packages (from tensorflow==2.11.1->pykospacing==0.5) (1.4.0)\n",
            "Requirement already satisfied: astunparse>=1.6.0 in /usr/local/lib/python3.10/dist-packages (from tensorflow==2.11.1->pykospacing==0.5) (1.6.3)\n",
            "Requirement already satisfied: flatbuffers>=2.0 in /usr/local/lib/python3.10/dist-packages (from tensorflow==2.11.1->pykospacing==0.5) (24.3.7)\n",
            "Requirement already satisfied: gast<=0.4.0,>=0.2.1 in /usr/local/lib/python3.10/dist-packages (from tensorflow==2.11.1->pykospacing==0.5) (0.4.0)\n",
            "Requirement already satisfied: google-pasta>=0.1.1 in /usr/local/lib/python3.10/dist-packages (from tensorflow==2.11.1->pykospacing==0.5) (0.2.0)\n",
            "Requirement already satisfied: grpcio<2.0,>=1.24.3 in /usr/local/lib/python3.10/dist-packages (from tensorflow==2.11.1->pykospacing==0.5) (1.62.1)\n",
            "Requirement already satisfied: keras<2.12,>=2.11.0 in /usr/local/lib/python3.10/dist-packages (from tensorflow==2.11.1->pykospacing==0.5) (2.11.0)\n",
            "Requirement already satisfied: libclang>=13.0.0 in /usr/local/lib/python3.10/dist-packages (from tensorflow==2.11.1->pykospacing==0.5) (16.0.6)\n",
            "Requirement already satisfied: opt-einsum>=2.3.2 in /usr/local/lib/python3.10/dist-packages (from tensorflow==2.11.1->pykospacing==0.5) (3.3.0)\n",
            "Requirement already satisfied: packaging in /usr/local/lib/python3.10/dist-packages (from tensorflow==2.11.1->pykospacing==0.5) (24.0)\n",
            "Requirement already satisfied: protobuf<3.20,>=3.9.2 in /usr/local/lib/python3.10/dist-packages (from tensorflow==2.11.1->pykospacing==0.5) (3.19.6)\n",
            "Requirement already satisfied: setuptools in /usr/local/lib/python3.10/dist-packages (from tensorflow==2.11.1->pykospacing==0.5) (67.7.2)\n",
            "Requirement already satisfied: six>=1.12.0 in /usr/local/lib/python3.10/dist-packages (from tensorflow==2.11.1->pykospacing==0.5) (1.16.0)\n",
            "Requirement already satisfied: tensorboard<2.12,>=2.11 in /usr/local/lib/python3.10/dist-packages (from tensorflow==2.11.1->pykospacing==0.5) (2.11.2)\n",
            "Requirement already satisfied: tensorflow-estimator<2.12,>=2.11.0 in /usr/local/lib/python3.10/dist-packages (from tensorflow==2.11.1->pykospacing==0.5) (2.11.0)\n",
            "Requirement already satisfied: termcolor>=1.1.0 in /usr/local/lib/python3.10/dist-packages (from tensorflow==2.11.1->pykospacing==0.5) (2.4.0)\n",
            "Requirement already satisfied: typing-extensions>=3.6.6 in /usr/local/lib/python3.10/dist-packages (from tensorflow==2.11.1->pykospacing==0.5) (4.10.0)\n",
            "Requirement already satisfied: wrapt>=1.11.0 in /usr/local/lib/python3.10/dist-packages (from tensorflow==2.11.1->pykospacing==0.5) (1.14.1)\n",
            "Requirement already satisfied: tensorflow-io-gcs-filesystem>=0.23.1 in /usr/local/lib/python3.10/dist-packages (from tensorflow==2.11.1->pykospacing==0.5) (0.36.0)\n",
            "Requirement already satisfied: wheel<1.0,>=0.23.0 in /usr/local/lib/python3.10/dist-packages (from astunparse>=1.6.0->tensorflow==2.11.1->pykospacing==0.5) (0.43.0)\n",
            "Requirement already satisfied: google-auth<3,>=1.6.3 in /usr/local/lib/python3.10/dist-packages (from tensorboard<2.12,>=2.11->tensorflow==2.11.1->pykospacing==0.5) (2.27.0)\n",
            "Requirement already satisfied: google-auth-oauthlib<0.5,>=0.4.1 in /usr/local/lib/python3.10/dist-packages (from tensorboard<2.12,>=2.11->tensorflow==2.11.1->pykospacing==0.5) (0.4.6)\n",
            "Requirement already satisfied: markdown>=2.6.8 in /usr/local/lib/python3.10/dist-packages (from tensorboard<2.12,>=2.11->tensorflow==2.11.1->pykospacing==0.5) (3.6)\n",
            "Requirement already satisfied: requests<3,>=2.21.0 in /usr/local/lib/python3.10/dist-packages (from tensorboard<2.12,>=2.11->tensorflow==2.11.1->pykospacing==0.5) (2.31.0)\n",
            "Requirement already satisfied: tensorboard-data-server<0.7.0,>=0.6.0 in /usr/local/lib/python3.10/dist-packages (from tensorboard<2.12,>=2.11->tensorflow==2.11.1->pykospacing==0.5) (0.6.1)\n",
            "Requirement already satisfied: tensorboard-plugin-wit>=1.6.0 in /usr/local/lib/python3.10/dist-packages (from tensorboard<2.12,>=2.11->tensorflow==2.11.1->pykospacing==0.5) (1.8.1)\n",
            "Requirement already satisfied: werkzeug>=1.0.1 in /usr/local/lib/python3.10/dist-packages (from tensorboard<2.12,>=2.11->tensorflow==2.11.1->pykospacing==0.5) (3.0.1)\n",
            "Requirement already satisfied: cachetools<6.0,>=2.0.0 in /usr/local/lib/python3.10/dist-packages (from google-auth<3,>=1.6.3->tensorboard<2.12,>=2.11->tensorflow==2.11.1->pykospacing==0.5) (5.3.3)\n",
            "Requirement already satisfied: pyasn1-modules>=0.2.1 in /usr/local/lib/python3.10/dist-packages (from google-auth<3,>=1.6.3->tensorboard<2.12,>=2.11->tensorflow==2.11.1->pykospacing==0.5) (0.3.0)\n",
            "Requirement already satisfied: rsa<5,>=3.1.4 in /usr/local/lib/python3.10/dist-packages (from google-auth<3,>=1.6.3->tensorboard<2.12,>=2.11->tensorflow==2.11.1->pykospacing==0.5) (4.9)\n",
            "Requirement already satisfied: requests-oauthlib>=0.7.0 in /usr/local/lib/python3.10/dist-packages (from google-auth-oauthlib<0.5,>=0.4.1->tensorboard<2.12,>=2.11->tensorflow==2.11.1->pykospacing==0.5) (1.4.0)\n",
            "Requirement already satisfied: charset-normalizer<4,>=2 in /usr/local/lib/python3.10/dist-packages (from requests<3,>=2.21.0->tensorboard<2.12,>=2.11->tensorflow==2.11.1->pykospacing==0.5) (3.3.2)\n",
            "Requirement already satisfied: idna<4,>=2.5 in /usr/local/lib/python3.10/dist-packages (from requests<3,>=2.21.0->tensorboard<2.12,>=2.11->tensorflow==2.11.1->pykospacing==0.5) (3.6)\n",
            "Requirement already satisfied: urllib3<3,>=1.21.1 in /usr/local/lib/python3.10/dist-packages (from requests<3,>=2.21.0->tensorboard<2.12,>=2.11->tensorflow==2.11.1->pykospacing==0.5) (2.0.7)\n",
            "Requirement already satisfied: certifi>=2017.4.17 in /usr/local/lib/python3.10/dist-packages (from requests<3,>=2.21.0->tensorboard<2.12,>=2.11->tensorflow==2.11.1->pykospacing==0.5) (2024.2.2)\n",
            "Requirement already satisfied: MarkupSafe>=2.1.1 in /usr/local/lib/python3.10/dist-packages (from werkzeug>=1.0.1->tensorboard<2.12,>=2.11->tensorflow==2.11.1->pykospacing==0.5) (2.1.5)\n",
            "Requirement already satisfied: pyasn1<0.6.0,>=0.4.6 in /usr/local/lib/python3.10/dist-packages (from pyasn1-modules>=0.2.1->google-auth<3,>=1.6.3->tensorboard<2.12,>=2.11->tensorflow==2.11.1->pykospacing==0.5) (0.5.1)\n",
            "Requirement already satisfied: oauthlib>=3.0.0 in /usr/local/lib/python3.10/dist-packages (from requests-oauthlib>=0.7.0->google-auth-oauthlib<0.5,>=0.4.1->tensorboard<2.12,>=2.11->tensorflow==2.11.1->pykospacing==0.5) (3.2.2)\n",
            "Installing collected packages: argparse\n",
            "Successfully installed argparse-1.4.0\n"
          ]
        },
        {
          "output_type": "display_data",
          "data": {
            "application/vnd.colab-display-data+json": {
              "pip_warning": {
                "packages": [
                  "argparse"
                ]
              },
              "id": "d9a2f012a1e243b78c1312a6071e90c8"
            }
          },
          "metadata": {}
        }
      ]
    },
    {
      "cell_type": "code",
      "source": [
        "from sklearn.feature_extraction.text import CountVectorizer\n",
        "import re\n",
        "from pykospacing import Spacing\n",
        "\n",
        "with open('babypig.txt', 'r', encoding='utf-8') as file:\n",
        "    text_data = file.read()\n",
        "\n",
        "spacing = Spacing()\n",
        "text_data_spaced = spacing(text_data)\n",
        "text_data_stemmed = re.sub(\"말했어요|말했지요|말했어\", \"말하다\", text_data_spaced)\n",
        "text_data_stemmed = re.sub(\"살았답니다|살았어요\", \"살다\", text_data_spaced)\n",
        "text_data_improved = re.sub(r'([.!?])', r'\\1 ', text_data_stemmed)\n",
        "\n",
        "vectorizer = CountVectorizer()\n",
        "vectorizer.fit([text_data_improved])\n",
        "tokenized_result = vectorizer.get_feature_names_out()\n",
        "\n",
        "tokenized_result"
      ],
      "metadata": {
        "colab": {
          "base_uri": "https://localhost:8080/"
        },
        "id": "v-vnH5ayySaj",
        "outputId": "5e9842eb-3677-4246-e377-fef01c9e3a33"
      },
      "execution_count": 11,
      "outputs": [
        {
          "output_type": "execute_result",
          "data": {
            "text/plain": [
              "array(['ㅠㅠ', '고픈', '굴뚝', '그러다가', '그리고', '그린', '그만', '깜짝', '끄떡', '끓는',\n",
              "       '나가서', '나무', '나무로', '날려', '내려갔어요', '냄비', '냠냠쩝쩝', '너희는', '노는',\n",
              "       '놀다가', '놀라', '늑대가', '늑대는', '다가와서', '다닥', '다음에', '다행히', '도망갔어요',\n",
              "       '돼지', '돼지가', '돼지는', '돼지야', '두드리며', '둘째', '들어올', '들여보내', '똑두드리며',\n",
              "       '똑똑', '뜨거', '말했어', '말했어요', '말했지요', '먹고', '먹는', '먹다가', '먼저', '모두',\n",
              "       '무나', '문을', '버렸어요', '벽돌', '벽돌로', '벽돌집은', '부지런햇어요', '불어서', '불었지만',\n",
              "       '빈둥', '빠졌지요', '살다', '살려', '삼겹살이', '삼형제가', '삼형제는', '설계도를', '셋째',\n",
              "       '속으로', '싶어', '아기', '아래로', '안된다고', '애들아', '엄마', '엄청났어요', '없다고',\n",
              "       '없어', '없었지요', '오래오래', '올라가서', '위로', '작은', '절대', '절대로', '종일',\n",
              "       '좋아했어요', '좋아했지요', '죽음', '지붕', '지어', '지었어요', '집에', '집으로', '집을',\n",
              "       '짚단', '짚으로', '첫째', '컸다', '튼튼하게', '펄펄', '풍덩', '하루', '하루는', '했지만',\n",
              "       '화가', '훅훅훅훅훅'], dtype=object)"
            ]
          },
          "metadata": {},
          "execution_count": 11
        }
      ]
    },
    {
      "cell_type": "markdown",
      "source": [
        "1) pykospacing을 통해 띄어쓰기가 잘못된 부분을 교정하고,\n",
        "\n",
        "정규표현식을 사용해\n",
        "2) '말하다' & '살다'의 변형 동사를 하나로 통일시키고,\n",
        "3) 문장 부호 뒤에 공백을 추가하는 전처리를 수행했습니다.\n",
        "\n",
        "4) CountVectorizer 토크나이저를 사용해서 공백이나 문장 부호를 기준으로 토큰화를 했더니 위와 같은 결과가 나왔습니다."
      ],
      "metadata": {
        "id": "KukUa7uM1FT7"
      }
    }
  ]
}